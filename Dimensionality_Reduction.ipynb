{
  "nbformat": 4,
  "nbformat_minor": 0,
  "metadata": {
    "colab": {
      "name": "Dimensionality Reduction.ipynb",
      "provenance": [],
      "collapsed_sections": [],
      "authorship_tag": "ABX9TyOY1WlrrVqss4y3K0xKe8GR",
      "include_colab_link": true
    },
    "kernelspec": {
      "name": "python3",
      "display_name": "Python 3"
    }
  },
  "cells": [
    {
      "cell_type": "markdown",
      "metadata": {
        "id": "view-in-github",
        "colab_type": "text"
      },
      "source": [
        "<a href=\"https://colab.research.google.com/github/adityasankalp/PCA/blob/main/Dimensionality_Reduction.ipynb\" target=\"_parent\"><img src=\"https://colab.research.google.com/assets/colab-badge.svg\" alt=\"Open In Colab\"/></a>"
      ]
    },
    {
      "cell_type": "code",
      "metadata": {
        "id": "yK41lqBlIN_h"
      },
      "source": [
        "    # Import the relevant libraries\r\n",
        "    import numpy as np\r\n",
        "    import pandas as pd\r\n",
        "    import time\r\n",
        "    import math as math\r\n",
        "    import matplotlib.pyplot as plt"
      ],
      "execution_count": 1,
      "outputs": []
    },
    {
      "cell_type": "code",
      "metadata": {
        "colab": {
          "base_uri": "https://localhost:8080/"
        },
        "id": "W3RtBMZgIrGU",
        "outputId": "d4ba230c-6bb3-45fc-afaf-cbe599b06657"
      },
      "source": [
        "time1 = time.process_time()\r\n",
        "for i  in range(0,300000000):\r\n",
        "  j = i\r\n",
        "\r\n",
        "time2 = (time.process_time() -time1)\r\n",
        "#round(time2,3)\r\n",
        "print(\"%5.3fs\"%(time2))"
      ],
      "execution_count": 17,
      "outputs": [
        {
          "output_type": "stream",
          "text": [
            "21.258s\n"
          ],
          "name": "stdout"
        }
      ]
    },
    {
      "cell_type": "code",
      "metadata": {
        "colab": {
          "base_uri": "https://localhost:8080/"
        },
        "id": "_0ClcgbjIrDb",
        "outputId": "6602e5f3-cf4f-4eda-bdc4-604a5fe8bb7f"
      },
      "source": [
        "# Load the MNIST Data\r\n",
        "from sklearn.datasets import fetch_openml\r\n",
        "mnist = fetch_openml('mnist_784', version=1)\r\n",
        "mnist.keys()"
      ],
      "execution_count": 18,
      "outputs": [
        {
          "output_type": "execute_result",
          "data": {
            "text/plain": [
              "dict_keys(['data', 'target', 'frame', 'feature_names', 'target_names', 'DESCR', 'details', 'categories', 'url'])"
            ]
          },
          "metadata": {
            "tags": []
          },
          "execution_count": 18
        }
      ]
    },
    {
      "cell_type": "code",
      "metadata": {
        "id": "FYSLlZXqIrBI"
      },
      "source": [
        "# Divide data into train,valid and test set\r\n",
        "from sklearn.model_selection import train_test_split\r\n",
        "train_X,test_X,train_Y,test_Y = train_test_split(mnist['data'],mnist['target'],test_size = 10000,random_state = 20)\r\n",
        "#train_X,valid_X,train_Y,valid_Y = train_test_split(train_1_X,train_1_Y,test_size = 10000,random_state = 20)"
      ],
      "execution_count": 19,
      "outputs": []
    },
    {
      "cell_type": "code",
      "metadata": {
        "colab": {
          "base_uri": "https://localhost:8080/"
        },
        "id": "Oxu2G6uGIq9z",
        "outputId": "6b7e2806-5e23-4931-8e29-ec724cdff6e9"
      },
      "source": [
        "#Check size of data\r\n",
        "\r\n",
        "#Training data\r\n",
        "\r\n",
        "print(\"Training Data_features\",train_X.shape)\r\n",
        "print(\"Training Data_target\",train_Y.shape)\r\n",
        "print(\"Test Data_features\",test_X.shape)\r\n",
        "print(\"Test Data_target\",test_Y.shape)"
      ],
      "execution_count": 20,
      "outputs": [
        {
          "output_type": "stream",
          "text": [
            "Training Data_features (60000, 784)\n",
            "Training Data_target (60000,)\n",
            "Test Data_features (10000, 784)\n",
            "Test Data_target (10000,)\n"
          ],
          "name": "stdout"
        }
      ]
    },
    {
      "cell_type": "code",
      "metadata": {
        "colab": {
          "base_uri": "https://localhost:8080/",
          "height": 316
        },
        "id": "7zI8b_HwIq6r",
        "outputId": "eb6612e8-77b7-4668-ab9a-1b5ca0e687d4"
      },
      "source": [
        "# view a sample image\r\n",
        "\r\n",
        "x = np.random.randint(0,50000)\r\n",
        "print(x)\r\n",
        "print(\"target_variable\",train_Y[x])\r\n",
        "t1 = train_X[x].reshape(28,28)\r\n",
        "plt.imshow(t1)"
      ],
      "execution_count": 21,
      "outputs": [
        {
          "output_type": "stream",
          "text": [
            "35557\n",
            "target_variable 2\n"
          ],
          "name": "stdout"
        },
        {
          "output_type": "execute_result",
          "data": {
            "text/plain": [
              "<matplotlib.image.AxesImage at 0x7faca4bec810>"
            ]
          },
          "metadata": {
            "tags": []
          },
          "execution_count": 21
        },
        {
          "output_type": "display_data",
          "data": {
            "image/png": "[encoded data removed]",
            "text/plain": [
              "<Figure size 432x288 with 1 Axes>"
            ]
          },
          "metadata": {
            "tags": [],
            "needs_background": "light"
          }
        }
      ]
    },
    {
      "cell_type": "code",
      "metadata": {
        "id": "xo1QnpMtIq4U"
      },
      "source": [
        "# Standardize the features using standard scaler\r\n",
        "from sklearn.preprocessing import StandardScaler\r\n",
        "scaled = StandardScaler()\r\n",
        "train_x = scaled.fit_transform(train_X)"
      ],
      "execution_count": 22,
      "outputs": []
    },
    {
      "cell_type": "code",
      "metadata": {
        "colab": {
          "base_uri": "https://localhost:8080/"
        },
        "id": "PTBkAnD8Iq05",
        "outputId": "62637d29-ed7f-462c-fcd8-f9a0fe4cb26e"
      },
      "source": [
        "# Model train using Random forest\r\n",
        "time1 = time.process_time()\r\n",
        "from sklearn.ensemble import RandomForestClassifier\r\n",
        "clf1 = RandomForestClassifier()\r\n",
        "clf1.fit(scaled.transform(train_X),train_Y)\r\n",
        "print(\"Score of Random Forest\",clf1.score(scaled.transform(test_X),test_Y))\r\n",
        "time2 = (time.process_time() -time1)\r\n",
        "print(\"%5.3fs\"%(time2))"
      ],
      "execution_count": 27,
      "outputs": [
        {
          "output_type": "stream",
          "text": [
            "Score of Random Forest 0.9703\n",
            "45.254s\n"
          ],
          "name": "stdout"
        }
      ]
    },
    {
      "cell_type": "code",
      "metadata": {
        "colab": {
          "base_uri": "https://localhost:8080/"
        },
        "id": "wb6g6wOhVLSL",
        "outputId": "dd8e481a-dc30-4fd8-c2f5-3fc69b6a7eaa"
      },
      "source": [
        "from sklearn.decomposition import PCA\r\n",
        "time1 = time.process_time()\r\n",
        "pca = PCA(n_components = 0.95)\r\n",
        "X_reduced = pca.fit_transform(scaled.transform(train_X))\r\n",
        "#clf2 = RandomForestClassifier()\r\n",
        "#clf2.fit(X_reduced,train_Y)\r\n",
        "x_reduced = pca.transform(scaled.transform(test_X))\r\n",
        "#print(\"Score of Random Forestw with PCA\",clf2.score(x_reduced,test_Y))\r\n",
        "time2 = (time.process_time() -time1)\r\n",
        "print(\"%5.3fs\"%(time2))\r\n"
      ],
      "execution_count": 31,
      "outputs": [
        {
          "output_type": "stream",
          "text": [
            "24.818s\n"
          ],
          "name": "stdout"
        }
      ]
    },
    {
      "cell_type": "code",
      "metadata": {
        "colab": {
          "base_uri": "https://localhost:8080/"
        },
        "id": "vqNJbjCgZywA",
        "outputId": "22b04196-01af-4dde-d7f9-413fbb2caf88"
      },
      "source": [
        "time1 = time.process_time()\r\n",
        "\r\n",
        "clf2 = RandomForestClassifier()\r\n",
        "clf2.fit(X_reduced,train_Y)\r\n",
        "print(\"Score of Random Forest with PCA\",clf2.score(x_reduced,test_Y))\r\n",
        "\r\n",
        "time2 = (time.process_time() -time1)\r\n",
        "print(\"%5.3fs\"%(time2))\r\n",
        "\r\n"
      ],
      "execution_count": 32,
      "outputs": [
        {
          "output_type": "stream",
          "text": [
            "Score of Random Forestw with PCA 0.9386\n",
            "187.730s\n"
          ],
          "name": "stdout"
        }
      ]
    },
    {
      "cell_type": "code",
      "metadata": {
        "colab": {
          "base_uri": "https://localhost:8080/"
        },
        "id": "Z73OSv8BZyf5",
        "outputId": "d542b30d-371f-4cde-acad-bd53b50e4299"
      },
      "source": [
        "X_reduced.shape\r\n",
        "#train_X.shape"
      ],
      "execution_count": 35,
      "outputs": [
        {
          "output_type": "execute_result",
          "data": {
            "text/plain": [
              "(60000, 330)"
            ]
          },
          "metadata": {
            "tags": []
          },
          "execution_count": 35
        }
      ]
    },
    {
      "cell_type": "code",
      "metadata": {
        "colab": {
          "base_uri": "https://localhost:8080/"
        },
        "id": "q_sBZN0FdFyJ",
        "outputId": "d004534c-01e6-43f0-8d17-76a00a569f3a"
      },
      "source": [
        "sum(pca.explained_variance_ratio_[0:330])"
      ],
      "execution_count": 41,
      "outputs": [
        {
          "output_type": "execute_result",
          "data": {
            "text/plain": [
              "0.9502261664083361"
            ]
          },
          "metadata": {
            "tags": []
          },
          "execution_count": 41
        }
      ]
    },
    {
      "cell_type": "code",
      "metadata": {
        "colab": {
          "base_uri": "https://localhost:8080/"
        },
        "id": "PCIC0SgyIqww",
        "outputId": "b2f93067-3124-48d7-bca7-138ff3dd54cd"
      },
      "source": [
        "from sklearn.pipeline import Pipeline\r\n",
        "from sklearn.decomposition import PCA\r\n",
        "time1 = time.process_time()\r\n",
        "clf3 = Pipeline([('ss',StandardScaler()),\r\n",
        "                 ('pca',PCA(n_components = 0.95)),\r\n",
        "                 ('rf',RandomForestClassifier())])\r\n",
        "#clf2.fit(scaled.transform(train_X),train_Y)\r\n",
        "clf3.fit(train_X,train_Y)\r\n",
        "print(\"Score of PCA optimized Random Forest\",clf3.score(test_X,test_Y))\r\n",
        "time2 = (time.process_time() -time1)\r\n",
        "print(\"%5.3fs\"%(time2))"
      ],
      "execution_count": 43,
      "outputs": [
        {
          "output_type": "stream",
          "text": [
            "Score of PCA optimized Random Forest 0.9374\n",
            "199.877s\n"
          ],
          "name": "stdout"
        }
      ]
    },
    {
      "cell_type": "code",
      "metadata": {
        "id": "D-wON1pEIqoo"
      },
      "source": [
        "from sklearn.manifold import TSNE\r\n",
        "X_embedded = TSNE(n_components=2).fit_transform(train_X)\r\n",
        "X_embedded.shape"
      ],
      "execution_count": null,
      "outputs": []
    },
    {
      "cell_type": "code",
      "metadata": {
        "id": "oqfRnXjXIqb5"
      },
      "source": [
        "# view a sample image\r\n",
        "\r\n",
        "x = np.random.randint(0,50000)\r\n",
        "print(x)\r\n",
        "print(\"target_variable\",train_Y[x])\r\n",
        "t1 = X_embedded[x].reshape(28,28)\r\n",
        "plt.imshow(t1)"
      ],
      "execution_count": null,
      "outputs": []
    }
  ]
}